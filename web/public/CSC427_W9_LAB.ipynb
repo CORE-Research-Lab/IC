{
 "cells": [
  {
   "cell_type": "markdown",
   "id": "79b88643",
   "metadata": {},
   "source": [
    "# CSC427 WEEK 9 LAB"
   ]
  },
  {
   "cell_type": "markdown",
   "id": "796f4d7e",
   "metadata": {},
   "source": [
    "## Task 1 (Hack the LLM)\n",
    "\n",
    "Please visit [`lab website`](https://ai-assistant.utm.utoronto.ca/hack) to start the lab. Feel free to bounce off some ideas to break our llm. You might find our [`chat bot`](https://ai-assistant.utm.utoronto.ca/agent) helpful. "
   ]
  },
  {
   "cell_type": "markdown",
   "id": "0bee442d",
   "metadata": {},
   "source": [
    "### Task 1.1 (Hallucinations)\n",
    "Please record the Attack ID for task 1.1 in the following code block"
   ]
  },
  {
   "cell_type": "code",
   "execution_count": null,
   "id": "78852698",
   "metadata": {},
   "outputs": [],
   "source": []
  },
  {
   "cell_type": "markdown",
   "id": "a0b2ae36",
   "metadata": {},
   "source": [
    "### Task 1.2 (Prompt Injection)\n",
    "Please record the Attack ID for task 1.2 in the following code block"
   ]
  },
  {
   "cell_type": "code",
   "execution_count": null,
   "id": "f83f7450",
   "metadata": {},
   "outputs": [],
   "source": []
  },
  {
   "cell_type": "markdown",
   "id": "12f0ea5b",
   "metadata": {},
   "source": [
    "### Task 1.3\n",
    "Please record the Attack ID for task 1.3 in the following code block"
   ]
  },
  {
   "cell_type": "code",
   "execution_count": null,
   "id": "8215f1b3",
   "metadata": {},
   "outputs": [],
   "source": []
  },
  {
   "cell_type": "markdown",
   "id": "79235ba6",
   "metadata": {},
   "source": [
    "## Task 2 (Short Answer Questions)"
   ]
  },
  {
   "cell_type": "markdown",
   "id": "5daaa62a",
   "metadata": {},
   "source": [
    "### Task 2.1\n",
    "Please rank the following three types of protection methods (Prompt Engineering, Fine-tuning, LLM Guard) that were covered in today's lecture in order of simplicity to complexity of implementation. Please write the number in the [ ]."
   ]
  },
  {
   "cell_type": "markdown",
   "id": "aa272914",
   "metadata": {},
   "source": [
    "- [ ] LLM Guard\n",
    "- [ ] Prompt Engineering\n",
    "- [ ] Fine-tuning"
   ]
  },
  {
   "cell_type": "markdown",
   "id": "f79adc99",
   "metadata": {},
   "source": [
    "### Task 2.2\n",
    "When using close source LLM (such as OPENAI, GOOGLE, MICROSOFT), what should we pay attention to?"
   ]
  },
  {
   "cell_type": "code",
   "execution_count": null,
   "id": "a7b11771",
   "metadata": {},
   "outputs": [],
   "source": []
  },
  {
   "cell_type": "markdown",
   "id": "928c952f",
   "metadata": {},
   "source": [
    "# Done!\n",
    "\n",
    "Congratulations, you have finished this lab, please submit this notebook to MarkUs by the deadline."
   ]
  }
 ],
 "metadata": {
  "kernelspec": {
   "display_name": "Python 3 (ipykernel)",
   "language": "python",
   "name": "python3"
  },
  "language_info": {
   "codemirror_mode": {
    "name": "ipython",
    "version": 3
   },
   "file_extension": ".py",
   "mimetype": "text/x-python",
   "name": "python",
   "nbconvert_exporter": "python",
   "pygments_lexer": "ipython3",
   "version": "3.11.5"
  }
 },
 "nbformat": 4,
 "nbformat_minor": 5
}
